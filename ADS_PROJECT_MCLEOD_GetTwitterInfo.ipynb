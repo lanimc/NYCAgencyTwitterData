{
 "cells": [
  {
   "cell_type": "code",
   "execution_count": 114,
   "metadata": {
    "collapsed": false
   },
   "outputs": [
    {
     "name": "stdout",
     "output_type": "stream",
     "text": [
      "Populating the interactive namespace from numpy and matplotlib\n"
     ]
    },
    {
     "name": "stderr",
     "output_type": "stream",
     "text": [
      "/Users/lanimc/anaconda/lib/python2.7/site-packages/IPython/core/magics/pylab.py:161: UserWarning: pylab import has clobbered these variables: ['f']\n",
      "`%matplotlib` prevents importing * from pylab and numpy\n",
      "  \"\\n`%matplotlib` prevents importing * from pylab and numpy\"\n"
     ]
    }
   ],
   "source": [
    "import sys\n",
    "import string\n",
    "import simplejson\n",
    "from twython import Twython\n",
    "import datetime\n",
    "\n",
    "import numpy as np\n",
    "import pandas as pd\n",
    "%pylab inline\n",
    "import matplotlib.pyplot as plt\n",
    "\n",
    "\n",
    "from sklearn.model_selection import train_test_split\n"
   ]
  },
  {
   "cell_type": "markdown",
   "metadata": {},
   "source": [
    "Starting Dataset: NYC Social Media Usage<br>\n",
    "Twitter and Facebook statistics from various NYC agencies and organizations.<br>\n",
    "NYC OpenData<br>\n",
    "created Oct 11, 2011<br>\n",
    "updated Nov 29, 2016"
   ]
  },
  {
   "cell_type": "code",
   "execution_count": 115,
   "metadata": {
    "collapsed": false
   },
   "outputs": [],
   "source": [
    "data = pd.read_json('https://data.cityofnewyork.us/resource/pbc3-75xt.json')  "
   ]
  },
  {
   "cell_type": "markdown",
   "metadata": {
    "collapsed": false
   },
   "source": [
    "Identify top social media users and categories"
   ]
  },
  {
   "cell_type": "code",
   "execution_count": 116,
   "metadata": {
    "collapsed": true
   },
   "outputs": [],
   "source": [
    "data_agg = data.groupby(['agency','platform']).agg({'metric':sum})"
   ]
  },
  {
   "cell_type": "code",
   "execution_count": 117,
   "metadata": {
    "collapsed": false
   },
   "outputs": [
    {
     "data": {
      "text/html": [
       "<div>\n",
       "<table border=\"1\" class=\"dataframe\">\n",
       "  <thead>\n",
       "    <tr style=\"text-align: right;\">\n",
       "      <th></th>\n",
       "      <th></th>\n",
       "      <th>metric</th>\n",
       "    </tr>\n",
       "    <tr>\n",
       "      <th>agency</th>\n",
       "      <th>platform</th>\n",
       "      <th></th>\n",
       "    </tr>\n",
       "  </thead>\n",
       "  <tbody>\n",
       "    <tr>\n",
       "      <th rowspan=\"4\" valign=\"top\">311</th>\n",
       "      <th>Facebook</th>\n",
       "      <td>6991.0</td>\n",
       "    </tr>\n",
       "    <tr>\n",
       "      <th>Twitter</th>\n",
       "      <td>133435.0</td>\n",
       "    </tr>\n",
       "    <tr>\n",
       "      <th>WordPress</th>\n",
       "      <td>NaN</td>\n",
       "    </tr>\n",
       "    <tr>\n",
       "      <th>iPhone App</th>\n",
       "      <td>70041.0</td>\n",
       "    </tr>\n",
       "    <tr>\n",
       "      <th>ACS</th>\n",
       "      <th>Facebook</th>\n",
       "      <td>2020.0</td>\n",
       "    </tr>\n",
       "  </tbody>\n",
       "</table>\n",
       "</div>"
      ],
      "text/plain": [
       "                     metric\n",
       "agency platform            \n",
       "311    Facebook      6991.0\n",
       "       Twitter     133435.0\n",
       "       WordPress        NaN\n",
       "       iPhone App   70041.0\n",
       "ACS    Facebook      2020.0"
      ]
     },
     "execution_count": 117,
     "metadata": {},
     "output_type": "execute_result"
    }
   ],
   "source": [
    "data_agg.head(5)"
   ]
  },
  {
   "cell_type": "markdown",
   "metadata": {},
   "source": [
    "Use Twitter API to grab user information from list of top twitter posters from 2011-2012 data; Aim is to get a good crossection of types of tweets agencies send out - events, notifications, updates, press, service response, requests for assistance, customer service etc.\n",
    "\n",
    "export text file\n",
    "\n",
    "Uses Twython module to access Twitter API\n",
    "\n",
    "Method from http://social-metrics.org/twitter-user-data/"
   ]
  },
  {
   "cell_type": "code",
   "execution_count": 118,
   "metadata": {
    "collapsed": false
   },
   "outputs": [
    {
     "name": "stdout",
     "output_type": "stream",
     "text": [
      "{'lang': u'en', 'statuses_count': 16874, 'name': u\"NYC Mayor's Office\", 'friends_count': 609, 'url': u'https://t.co/gbCFBEvClg', 'created_at': u'Thu Jul 09 19:42:27 +0000 2009', 'description': u'Live from City Hall, in the greatest city on earth. @NYCMayor Bill de Blasio.', 'contributors_enabled': False, 'followers_count': 578639, 'protected': False, 'expanded_url': u'http://www.NYC.gov', 'location': u'New York City', 'favourites_count': 530, 'listed_count': 5376, 'id': 55338739, 'screen_name': u'NYCMayorsOffice'}\n",
      "{'lang': u'en', 'statuses_count': 18545, 'name': u'City of New York', 'friends_count': 202, 'url': u'https://t.co/HSvs3qcfig', 'created_at': u'Sat Feb 12 00:43:55 +0000 2011', 'description': u'Official New York City government Twitter. Keep up with NYC news, services, programs, free events and emergency notifications https://t.co/N0igPl3T7S', 'contributors_enabled': False, 'followers_count': 712593, 'protected': False, 'expanded_url': u'http://nyc.gov', 'location': u'New York City', 'favourites_count': 576, 'listed_count': 3919, 'id': 250884927, 'screen_name': u'nycgov'}\n",
      "{'lang': u'en', 'statuses_count': 13535, 'name': u'NYPD NEWS', 'friends_count': 280, 'url': u'https://t.co/bEB0pCXJXR', 'created_at': u'Fri Nov 14 19:00:10 +0000 2008', 'description': u'The official Twitter of the New York City Police Dept. Call 911 for emergencies - 311 for non-emergencies. Account not monitored 24/7. https://t.co/GcXsqNV6EN', 'contributors_enabled': False, 'followers_count': 267641, 'protected': False, 'expanded_url': u'http://www.nyc.gov/nypd', 'location': u'New York City', 'favourites_count': 1456, 'listed_count': 3540, 'id': 17393196, 'screen_name': u'NYPDnews'}\n",
      "{'lang': u'en', 'statuses_count': 26439, 'name': u'FDNY', 'friends_count': 272, 'url': u'https://t.co/baW8ITvn7T', 'created_at': u'Mon Apr 19 16:26:00 +0000 2010', 'description': u'The official New York City Fire Department feed. Call 911 for all emergencies, 311 for non-emergencies.', 'contributors_enabled': False, 'followers_count': 180347, 'protected': False, 'expanded_url': u'http://www.nyc.gov/fdny', 'location': u'New York, NY', 'favourites_count': 341, 'listed_count': 2533, 'id': 134846593, 'screen_name': u'FDNY'}\n",
      "{'lang': u'en', 'statuses_count': 10652, 'name': u'NYC Public Schools', 'friends_count': 270, 'url': u'http://t.co/ZKSAJEbZbE', 'created_at': u'Thu Feb 26 19:26:39 +0000 2009', 'description': u'NYC Department of Education, serving 1.1 million students in over 1,800 schools. #EEforAll | https://t.co/9WXr36Axsw', 'contributors_enabled': False, 'followers_count': 97331, 'protected': False, 'expanded_url': u'http://schools.nyc.gov', 'location': u'New York, NY', 'favourites_count': 2048, 'listed_count': 1904, 'id': 22049097, 'screen_name': u'NYCSchools'}\n",
      "{'lang': u'en', 'statuses_count': 11651, 'name': u'NYC Parks', 'friends_count': 1954, 'url': u'https://t.co/bPG9gbfIHS', 'created_at': u'Thu Apr 09 17:59:30 +0000 2009', 'description': u\"New York City Department of Parks & Recreation is the agency responsible for NYC's public parks and recreational spaces. User policy: https://t.co/on3oBe9106\", 'contributors_enabled': False, 'followers_count': 168252, 'protected': False, 'expanded_url': u'http://nyc.gov/parks', 'location': u'New York City', 'favourites_count': 3335, 'listed_count': 2956, 'id': 30031547, 'screen_name': u'NYCParks'}\n",
      "{'lang': u'en', 'statuses_count': 6645, 'name': u'NYCEM', 'friends_count': 450, 'url': u'https://t.co/EP0Y14n76X', 'created_at': u'Tue Dec 14 17:28:06 +0000 2010', 'description': u'The official Twitter feed of NYC Emergency Management. https://t.co/N0igPl3T7S', 'contributors_enabled': False, 'followers_count': 37800, 'protected': False, 'expanded_url': u'http://www.nyc.gov/oem', 'location': u'Brooklyn, New York', 'favourites_count': 53, 'listed_count': 1018, 'id': 226631680, 'screen_name': u'nycoem'}\n",
      "{'lang': u'en', 'statuses_count': 15570, 'name': u'NYCHA', 'friends_count': 1443, 'url': u'http://t.co/w2l6olqZzA', 'created_at': u'Fri Mar 26 03:07:41 +0000 2010', 'description': u'With over 400,000 residents living in 177,666 apartments, NYCHA is the largest & oldest public housing authority in the nation https://t.co/N0igPl3T7S', 'contributors_enabled': False, 'followers_count': 19129, 'protected': False, 'expanded_url': u'http://www.nyc.gov/nycha', 'location': u'New York City', 'favourites_count': 1789, 'listed_count': 548, 'id': 126511890, 'screen_name': u'NYCHA'}\n",
      "{'lang': u'en', 'statuses_count': 24092, 'name': u'New York City 311', 'friends_count': 220, 'url': u'http://t.co/LOWyrviDFV', 'created_at': u'Mon May 04 15:31:11 +0000 2009', 'description': u'311 is your source for New York City non-emergency government services. Account not monitored 24 hours. User policy: http://t.co/gce3s6IMOg', 'contributors_enabled': False, 'followers_count': 191914, 'protected': False, 'expanded_url': u'http://www.nyc.gov/311', 'location': u'New York City', 'favourites_count': 1109, 'listed_count': 2433, 'id': 37683414, 'screen_name': u'nyc311'}\n"
     ]
    }
   ],
   "source": [
    "now = datetime.datetime.now()\n",
    "day=int(now.day)\n",
    "month=int(now.month)\n",
    "year=int(now.year)\n",
    "\n",
    "t = Twython(app_key='Xt4YwW3pSY4Md2w9RbwqR8wXO', \n",
    "    app_secret='cyQHNkZpanA0TG7XqVgxmxrGvyIZYdYVcfrauFgoi6eQ2ONGP3',\n",
    "    oauth_token='484334783-yDabOpGySqX1CAKVhAECUNWdsTGguY8Cp74lkSk8',\n",
    "    oauth_token_secret='RTSxb5vtYnLpmDG3bbO6MCtwXLgVzg3TQhXALA2JOTJ3D')\n",
    "\n",
    "ids = \"NYCMayorsOffice,nycgov, NYPDnews, FDNY, NYCSchools, NYCParks,nycoem, NYCHA,nyc311\"\n",
    "\n",
    "users = t.lookup_user(screen_name = ids)\n",
    "\n",
    "outfn = \"twitter_user_data_%i.%i.%i.txt\" % (now.month, now.day, now.year)\n",
    "\n",
    "fields = \"id screen_name name created_at url followers_count friends_count statuses_count \\\n",
    "    favourites_count listed_count \\\n",
    "    contributors_enabled description protected location lang expanded_url\".split()\n",
    " \n",
    "outfp = open(outfn, \"w\")\n",
    "outfp.write(string.join(fields, \"\\t\") + \"\\n\")  # header\n",
    "\n",
    "for entry in users:\n",
    "    #CREATE EMPTY DICTIONARY\n",
    "    r = {}\n",
    "    for f in fields:\n",
    "        r[f] = \"\"\n",
    "    #ASSIGN VALUE OF 'ID' FIELD IN JSON TO 'ID' FIELD IN PYTHON DICTIONARY\n",
    "    r['id'] = entry['id']\n",
    "    r['screen_name'] = entry['screen_name']\n",
    "    r['name'] = entry['name']\n",
    "    r['created_at'] = entry['created_at']\n",
    "    r['url'] = entry['url']\n",
    "    r['followers_count'] = entry['followers_count']\n",
    "    r['friends_count'] = entry['friends_count']\n",
    "    r['statuses_count'] = entry['statuses_count']\n",
    "    r['favourites_count'] = entry['favourites_count']\n",
    "    r['listed_count'] = entry['listed_count']\n",
    "    r['contributors_enabled'] = entry['contributors_enabled']\n",
    "    r['description'] = entry['description']\n",
    "    r['protected'] = entry['protected']\n",
    "    r['location'] = entry['location']\n",
    "    r['lang'] = entry['lang']\n",
    "    #NOT EVERY ID WILL HAVE A 'URL' KEY, SO CHECK FOR ITS EXISTENCE WITH IF CLAUSE\n",
    "    if 'url' in entry['entities']:\n",
    "        r['expanded_url'] = entry['entities']['url']['urls'][0]['expanded_url']\n",
    "    else:\n",
    "        r['expanded_url'] = ''\n",
    "    print r\n",
    "    #CREATE EMPTY LIST\n",
    "    lst = []\n",
    "    #ADD DATA FOR EACH VARIABLE\n",
    "    for f in fields:\n",
    "        lst.append(unicode(r[f]).replace(\"\\/\", \"/\"))\n",
    "    #WRITE ROW WITH DATA IN LIST\n",
    "    outfp.write(string.join(lst, \"\\t\").encode(\"utf-8\") + \"\\n\")\n",
    "\n",
    "outfp.close()   "
   ]
  },
  {
   "cell_type": "code",
   "execution_count": 119,
   "metadata": {
    "collapsed": false
   },
   "outputs": [],
   "source": [
    "twittersummarydata = pd.read_table(\"twitter_user_data_%i.%i.%i.txt\" % (now.month, now.day, now.year))  "
   ]
  },
  {
   "cell_type": "code",
   "execution_count": 120,
   "metadata": {
    "collapsed": false
   },
   "outputs": [
    {
     "data": {
      "text/html": [
       "<div>\n",
       "<table border=\"1\" class=\"dataframe\">\n",
       "  <thead>\n",
       "    <tr style=\"text-align: right;\">\n",
       "      <th></th>\n",
       "      <th>id</th>\n",
       "      <th>screen_name</th>\n",
       "      <th>name</th>\n",
       "      <th>created_at</th>\n",
       "      <th>url</th>\n",
       "      <th>followers_count</th>\n",
       "      <th>friends_count</th>\n",
       "      <th>statuses_count</th>\n",
       "      <th>favourites_count</th>\n",
       "      <th>listed_count</th>\n",
       "      <th>contributors_enabled</th>\n",
       "      <th>description</th>\n",
       "      <th>protected</th>\n",
       "      <th>location</th>\n",
       "      <th>lang</th>\n",
       "      <th>expanded_url</th>\n",
       "    </tr>\n",
       "  </thead>\n",
       "  <tbody>\n",
       "    <tr>\n",
       "      <th>0</th>\n",
       "      <td>55338739</td>\n",
       "      <td>NYCMayorsOffice</td>\n",
       "      <td>NYC Mayor's Office</td>\n",
       "      <td>Thu Jul 09 19:42:27 +0000 2009</td>\n",
       "      <td>https://t.co/gbCFBEvClg</td>\n",
       "      <td>578639</td>\n",
       "      <td>609</td>\n",
       "      <td>16874</td>\n",
       "      <td>530</td>\n",
       "      <td>5376</td>\n",
       "      <td>False</td>\n",
       "      <td>Live from City Hall, in the greatest city on e...</td>\n",
       "      <td>False</td>\n",
       "      <td>New York City</td>\n",
       "      <td>en</td>\n",
       "      <td>http://www.NYC.gov</td>\n",
       "    </tr>\n",
       "    <tr>\n",
       "      <th>1</th>\n",
       "      <td>250884927</td>\n",
       "      <td>nycgov</td>\n",
       "      <td>City of New York</td>\n",
       "      <td>Sat Feb 12 00:43:55 +0000 2011</td>\n",
       "      <td>https://t.co/HSvs3qcfig</td>\n",
       "      <td>712593</td>\n",
       "      <td>202</td>\n",
       "      <td>18545</td>\n",
       "      <td>576</td>\n",
       "      <td>3919</td>\n",
       "      <td>False</td>\n",
       "      <td>Official New York City government Twitter. Kee...</td>\n",
       "      <td>False</td>\n",
       "      <td>New York City</td>\n",
       "      <td>en</td>\n",
       "      <td>http://nyc.gov</td>\n",
       "    </tr>\n",
       "    <tr>\n",
       "      <th>2</th>\n",
       "      <td>17393196</td>\n",
       "      <td>NYPDnews</td>\n",
       "      <td>NYPD NEWS</td>\n",
       "      <td>Fri Nov 14 19:00:10 +0000 2008</td>\n",
       "      <td>https://t.co/bEB0pCXJXR</td>\n",
       "      <td>267641</td>\n",
       "      <td>280</td>\n",
       "      <td>13535</td>\n",
       "      <td>1456</td>\n",
       "      <td>3540</td>\n",
       "      <td>False</td>\n",
       "      <td>The official Twitter of the New York City Poli...</td>\n",
       "      <td>False</td>\n",
       "      <td>New York City</td>\n",
       "      <td>en</td>\n",
       "      <td>http://www.nyc.gov/nypd</td>\n",
       "    </tr>\n",
       "  </tbody>\n",
       "</table>\n",
       "</div>"
      ],
      "text/plain": [
       "          id      screen_name                name  \\\n",
       "0   55338739  NYCMayorsOffice  NYC Mayor's Office   \n",
       "1  250884927           nycgov    City of New York   \n",
       "2   17393196         NYPDnews           NYPD NEWS   \n",
       "\n",
       "                       created_at                      url  followers_count  \\\n",
       "0  Thu Jul 09 19:42:27 +0000 2009  https://t.co/gbCFBEvClg           578639   \n",
       "1  Sat Feb 12 00:43:55 +0000 2011  https://t.co/HSvs3qcfig           712593   \n",
       "2  Fri Nov 14 19:00:10 +0000 2008  https://t.co/bEB0pCXJXR           267641   \n",
       "\n",
       "   friends_count  statuses_count  favourites_count  listed_count  \\\n",
       "0            609           16874               530          5376   \n",
       "1            202           18545               576          3919   \n",
       "2            280           13535              1456          3540   \n",
       "\n",
       "  contributors_enabled                                        description  \\\n",
       "0                False  Live from City Hall, in the greatest city on e...   \n",
       "1                False  Official New York City government Twitter. Kee...   \n",
       "2                False  The official Twitter of the New York City Poli...   \n",
       "\n",
       "  protected       location lang             expanded_url  \n",
       "0     False  New York City   en       http://www.NYC.gov  \n",
       "1     False  New York City   en           http://nyc.gov  \n",
       "2     False  New York City   en  http://www.nyc.gov/nypd  "
      ]
     },
     "execution_count": 120,
     "metadata": {},
     "output_type": "execute_result"
    }
   ],
   "source": [
    "twittersummarydata.head(3)"
   ]
  },
  {
   "cell_type": "code",
   "execution_count": 121,
   "metadata": {
    "collapsed": false
   },
   "outputs": [
    {
     "data": {
      "text/html": [
       "<div>\n",
       "<table border=\"1\" class=\"dataframe\">\n",
       "  <thead>\n",
       "    <tr style=\"text-align: right;\">\n",
       "      <th></th>\n",
       "      <th>id</th>\n",
       "      <th>followers_count</th>\n",
       "      <th>friends_count</th>\n",
       "      <th>statuses_count</th>\n",
       "      <th>favourites_count</th>\n",
       "      <th>listed_count</th>\n",
       "    </tr>\n",
       "  </thead>\n",
       "  <tbody>\n",
       "    <tr>\n",
       "      <th>count</th>\n",
       "      <td>9.000000e+00</td>\n",
       "      <td>9.000000</td>\n",
       "      <td>9.000000</td>\n",
       "      <td>9.000000</td>\n",
       "      <td>9.000000</td>\n",
       "      <td>9.000000</td>\n",
       "    </tr>\n",
       "    <tr>\n",
       "      <th>mean</th>\n",
       "      <td>1.001523e+08</td>\n",
       "      <td>250405.111111</td>\n",
       "      <td>633.333333</td>\n",
       "      <td>16000.333333</td>\n",
       "      <td>1248.555556</td>\n",
       "      <td>2691.888889</td>\n",
       "    </tr>\n",
       "    <tr>\n",
       "      <th>std</th>\n",
       "      <td>8.971664e+07</td>\n",
       "      <td>239492.156794</td>\n",
       "      <td>630.300920</td>\n",
       "      <td>6353.996184</td>\n",
       "      <td>1034.928393</td>\n",
       "      <td>1483.682197</td>\n",
       "    </tr>\n",
       "    <tr>\n",
       "      <th>min</th>\n",
       "      <td>1.739320e+07</td>\n",
       "      <td>19129.000000</td>\n",
       "      <td>202.000000</td>\n",
       "      <td>6645.000000</td>\n",
       "      <td>53.000000</td>\n",
       "      <td>548.000000</td>\n",
       "    </tr>\n",
       "    <tr>\n",
       "      <th>25%</th>\n",
       "      <td>3.003155e+07</td>\n",
       "      <td>97331.000000</td>\n",
       "      <td>270.000000</td>\n",
       "      <td>11651.000000</td>\n",
       "      <td>530.000000</td>\n",
       "      <td>1904.000000</td>\n",
       "    </tr>\n",
       "    <tr>\n",
       "      <th>50%</th>\n",
       "      <td>5.533874e+07</td>\n",
       "      <td>180347.000000</td>\n",
       "      <td>280.000000</td>\n",
       "      <td>15570.000000</td>\n",
       "      <td>1109.000000</td>\n",
       "      <td>2533.000000</td>\n",
       "    </tr>\n",
       "    <tr>\n",
       "      <th>75%</th>\n",
       "      <td>1.348466e+08</td>\n",
       "      <td>267641.000000</td>\n",
       "      <td>609.000000</td>\n",
       "      <td>18545.000000</td>\n",
       "      <td>1789.000000</td>\n",
       "      <td>3540.000000</td>\n",
       "    </tr>\n",
       "    <tr>\n",
       "      <th>max</th>\n",
       "      <td>2.508849e+08</td>\n",
       "      <td>712593.000000</td>\n",
       "      <td>1954.000000</td>\n",
       "      <td>26439.000000</td>\n",
       "      <td>3335.000000</td>\n",
       "      <td>5376.000000</td>\n",
       "    </tr>\n",
       "  </tbody>\n",
       "</table>\n",
       "</div>"
      ],
      "text/plain": [
       "                 id  followers_count  friends_count  statuses_count  \\\n",
       "count  9.000000e+00         9.000000       9.000000        9.000000   \n",
       "mean   1.001523e+08    250405.111111     633.333333    16000.333333   \n",
       "std    8.971664e+07    239492.156794     630.300920     6353.996184   \n",
       "min    1.739320e+07     19129.000000     202.000000     6645.000000   \n",
       "25%    3.003155e+07     97331.000000     270.000000    11651.000000   \n",
       "50%    5.533874e+07    180347.000000     280.000000    15570.000000   \n",
       "75%    1.348466e+08    267641.000000     609.000000    18545.000000   \n",
       "max    2.508849e+08    712593.000000    1954.000000    26439.000000   \n",
       "\n",
       "       favourites_count  listed_count  \n",
       "count          9.000000      9.000000  \n",
       "mean        1248.555556   2691.888889  \n",
       "std         1034.928393   1483.682197  \n",
       "min           53.000000    548.000000  \n",
       "25%          530.000000   1904.000000  \n",
       "50%         1109.000000   2533.000000  \n",
       "75%         1789.000000   3540.000000  \n",
       "max         3335.000000   5376.000000  "
      ]
     },
     "execution_count": 121,
     "metadata": {},
     "output_type": "execute_result"
    }
   ],
   "source": [
    "twittersummarydata.describe()"
   ]
  },
  {
   "cell_type": "code",
   "execution_count": null,
   "metadata": {
    "collapsed": false
   },
   "outputs": [],
   "source": []
  },
  {
   "cell_type": "markdown",
   "metadata": {
    "collapsed": false
   },
   "source": [
    "#get tweets from these agencies<br>\n",
    "in order to sve time, I used Twlet.com to get 3200 most recent tweets from 8 city agencies. <br> downloaded as excel files."
   ]
  },
  {
   "cell_type": "code",
   "execution_count": null,
   "metadata": {
    "collapsed": true
   },
   "outputs": [],
   "source": []
  }
 ],
 "metadata": {
  "anaconda-cloud": {},
  "kernelspec": {
   "display_name": "Python [default]",
   "language": "python",
   "name": "python2"
  },
  "language_info": {
   "codemirror_mode": {
    "name": "ipython",
    "version": 2
   },
   "file_extension": ".py",
   "mimetype": "text/x-python",
   "name": "python",
   "nbconvert_exporter": "python",
   "pygments_lexer": "ipython2",
   "version": "2.7.12"
  }
 },
 "nbformat": 4,
 "nbformat_minor": 1
}
